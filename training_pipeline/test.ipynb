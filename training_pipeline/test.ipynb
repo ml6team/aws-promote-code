{
 "cells": [
  {
   "attachments": {},
   "cell_type": "markdown",
   "metadata": {},
   "source": [
    "# Test the endpoint"
   ]
  },
  {
   "cell_type": "code",
   "execution_count": 131,
   "metadata": {},
   "outputs": [],
   "source": [
    "import json\n",
    "import pandas as pd\n",
    "import numpy as np"
   ]
  },
  {
   "cell_type": "code",
   "execution_count": 132,
   "metadata": {},
   "outputs": [],
   "source": [
    "import boto3\n",
    "import sagemaker\n",
    "from sagemaker import get_execution_role\n",
    "\n",
    "client = boto3.client('sagemaker-runtime')"
   ]
  },
  {
   "cell_type": "code",
   "execution_count": null,
   "metadata": {},
   "outputs": [],
   "source": []
  },
  {
   "attachments": {},
   "cell_type": "markdown",
   "metadata": {},
   "source": [
    "## Run Inference on deployed endpoint"
   ]
  },
  {
   "cell_type": "code",
   "execution_count": 133,
   "metadata": {},
   "outputs": [
    {
     "name": "stdout",
     "output_type": "stream",
     "text": [
      " Obstetrics / Gynecology\n",
      "PREOPERATIVE DIAGNOSIS:,  Ovarian cyst, persistent.,POSTOPERATIVE DIAGNOSIS: , Ovarian cyst.,ANESTHESIA:,  General,NAME OF OPERATION:,  Diagnostic laparoscopy and drainage of cyst.,PROCEDURE:,  The patient was taken to the operating room, prepped and draped in the usual manner, and adequate anesthesia was induced.  An infraumbilical incision was made, and Veress needle placed without difficulty.  Gas was entered into the abdomen at two liters.  The laparoscope was entered, and the abdomen was visualized.  The second puncture site was made, and the second trocar placed without difficulty.  The cyst was noted on the left, a 3-cm, ovarian cyst.  This was needled, and a hole cut in it with the scissors.  Hemostasis was intact.  Instruments were removed.  The patient was awakened and taken to the recovery room in good condition.\n"
     ]
    }
   ],
   "source": [
    "df = pd.read_csv(\"data/mtsamples.csv\")\n",
    "\n",
    "idx = np.random.randint(len(df))\n",
    "input_txt = df.loc[idx].transcription\n",
    "category = df.loc[idx].medical_specialty\n",
    "print(category)\n",
    "print(input_txt)"
   ]
  },
  {
   "cell_type": "code",
   "execution_count": null,
   "metadata": {},
   "outputs": [],
   "source": [
    "endpoint_name = \"31-2023-04-05-07-46-59-107\"\n",
    "content_type = \"text/csv\" # \"application/json\" #\n",
    "accept = \"application/json\" #\"text/csv\"\n",
    "# payload = \"test\"#json.dumps({\"instances\":[\"test\"]})\n",
    "\n",
    "response = client.invoke_endpoint(\n",
    "    EndpointName=endpoint_name,\n",
    "    # CustomAttributes=custom_attributes,\n",
    "    ContentType=content_type,\n",
    "    Accept=accept,\n",
    "    Body=input_txt,\n",
    ")\n",
    "\n",
    "json.loads(response[\"Body\"].read())\n"
   ]
  },
  {
   "attachments": {},
   "cell_type": "markdown",
   "metadata": {},
   "source": [
    "## Run batch inference (Transformer)\n",
    "Use latest approved model from model registry"
   ]
  },
  {
   "cell_type": "code",
   "execution_count": 141,
   "metadata": {},
   "outputs": [],
   "source": [
    "def get_latest_approved_model(model_package_group_name):\n",
    "    sm_client = boto3.client('sagemaker')\n",
    "    df = pd.DataFrame(sm_client.list_model_packages(\n",
    "        ModelPackageGroupName=model_package_group_name)[\"ModelPackageSummaryList\"])\n",
    "    # models are allways sorted newst to oldest\n",
    "    return df.loc[df.ModelApprovalStatus == \"Approved\"].iloc[0].ModelPackageArn"
   ]
  },
  {
   "cell_type": "code",
   "execution_count": 142,
   "metadata": {},
   "outputs": [
    {
     "name": "stdout",
     "output_type": "stream",
     "text": [
      "arn:aws:sagemaker:eu-west-3:101436505502:model-package/training-pipelinemodelgroup/36\n"
     ]
    },
    {
     "name": "stderr",
     "output_type": "stream",
     "text": [
      "INFO:sagemaker:Creating model with name: 36-2023-04-06-08-33-23-533\n"
     ]
    }
   ],
   "source": [
    "session = sagemaker.Session()\n",
    "default_bucket = session.default_bucket()\n",
    "\n",
    "input_data_path = f\"s3://{default_bucket}/data/test.csv\"\n",
    "output_data_path = f\"s3://{default_bucket}/data/out\"\n",
    "CONTENT_TYPE_CSV = 'text/csv'\n",
    "\n",
    "iam = boto3.client('iam')\n",
    "role_arn = iam.get_role(RoleName=f'101436505502-sagemaker-exec')['Role']['Arn']\n",
    "\n",
    "model_package_group_name=\"training-pipelineModelGroup\"\n",
    "model_package_arn = get_latest_approved_model(model_package_group_name)\n",
    "# model_package_arn = \"arn:aws:sagemaker:eu-west-3:101436505502:model-package/training-pipelinemodelgroup/33\"\n",
    "print(model_package_arn)\n",
    "# load model\n",
    "model = sagemaker.ModelPackage(role=role_arn, model_package_arn=model_package_arn,\n",
    "                         sagemaker_session=session)\n",
    "\n",
    "# create transformer model\n",
    "transformer =model.transformer(\n",
    "    instance_count = 1,\n",
    "    instance_type = \"ml.m5.large\",#'ml.g4dn.xlarge', #\n",
    "    strategy = 'SingleRecord',\n",
    "    assemble_with = 'Line',\n",
    "    output_path = output_data_path,\n",
    "    accept = CONTENT_TYPE_CSV,\n",
    ")"
   ]
  },
  {
   "cell_type": "code",
   "execution_count": 143,
   "metadata": {},
   "outputs": [
    {
     "name": "stderr",
     "output_type": "stream",
     "text": [
      "INFO:sagemaker:Creating transform job with name: 36-2023-04-06-08-33-33-420\n"
     ]
    },
    {
     "name": "stdout",
     "output_type": "stream",
     "text": [
      "..................."
     ]
    }
   ],
   "source": [
    "transformer.transform(data=input_data_path,\n",
    "                      content_type=CONTENT_TYPE_CSV, split_type='Line',)\n",
    "# transformer.wait()"
   ]
  }
 ],
 "metadata": {
  "kernelspec": {
   "display_name": "aws_nimbus_env",
   "language": "python",
   "name": "python3"
  },
  "language_info": {
   "codemirror_mode": {
    "name": "ipython",
    "version": 3
   },
   "file_extension": ".py",
   "mimetype": "text/x-python",
   "name": "python",
   "nbconvert_exporter": "python",
   "pygments_lexer": "ipython3",
   "version": "3.7.9"
  },
  "orig_nbformat": 4
 },
 "nbformat": 4,
 "nbformat_minor": 2
}
